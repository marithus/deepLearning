{
 "cells": [
  {
   "cell_type": "markdown",
   "metadata": {
    "_cell_guid": "07062a19-3f08-499f-a5a7-d6f34cdf125e",
    "_uuid": "faa859a5-6753-490d-986a-1589884d988f",
    "papermill": {
     "duration": 0.028584,
     "end_time": "2021-05-17T14:26:43.453505",
     "exception": false,
     "start_time": "2021-05-17T14:26:43.424921",
     "status": "completed"
    },
    "tags": []
   },
   "source": [
    "<h2><center>American Sign Language Detection</center></h2>"
   ]
  },
  {
   "cell_type": "markdown",
   "metadata": {},
   "source": [
    "# About\n",
    "The data set is a collection of images of alphabets from the American Sign Language, separated in 29 folders which represent the various classes."
   ]
  },
  {
   "cell_type": "markdown",
   "metadata": {},
   "source": [
    "# Content\n",
    "The training data set contains 87,000 images which are 200x200 pixels. There are 29 classes, of which 26 are for the letters A-Z and 3 classes for SPACE, DELETE and NOTHING.\n",
    "\n",
    "These 3 classes are very helpful in real-time applications, and classification.\n",
    "\n",
    "The test data set contains a mere 29 images, to encourage the use of real-world test images."
   ]
  },
  {
   "cell_type": "markdown",
   "metadata": {},
   "source": [
    "# Introduction\n",
    "Sign language is a vital form of communication for millions of people around the world. However, it can be a challenge for those who are not familiar with sign language to communicate with those who use it as their primary language. Automatic sign language recognition systems can help bridge this communication gap by translating sign language into text or speech. In this report, we investigate the performance of various deep learning models on the ASL Alphabet dataset for image classification tasks. The motivation behind the investigation is to identify the most effective models for sign language recognition tasks and explore the strengths and weaknesses of each model.\n",
    "\n",
    "The ASL Alphabet dataset consists of 87,000 images of 200x200 pixels, representing the 26 letters of the American Sign Language alphabet. The dataset was collected by the “Grassroots” organization and made publicly available on Kaggle. The dataset is divided into a training set and a test set, with 29,000 and 5,000 images, respectively."
   ]
  },
  {
   "cell_type": "markdown",
   "metadata": {
    "_cell_guid": "49a07585-ec11-476f-ad7c-c28337672066",
    "_kg_hide-input": false,
    "_uuid": "f7dffeed-8cd8-493d-8284-b48aa7786711",
    "papermill": {
     "duration": 0.025726,
     "end_time": "2021-05-17T14:26:43.559060",
     "exception": false,
     "start_time": "2021-05-17T14:26:43.533334",
     "status": "completed"
    },
    "tags": []
   },
   "source": [
    "Table of contents <a id=19></a>\n",
    "1. [Importing packages](#1)\n",
    "2. [Importing the dataset from training directory](#2)\n",
    "    - 2.1 [Checking the shape of data](#3)\n",
    "    - 2.2 [Checking the shape of one image](#4)\n",
    "    - 2.3 [Viewing the image](#5)\n",
    "3. [Data processing](#6)\n",
    "    - 3.1 [Train/test split](#7)\n",
    "    - 3.2 [One-Hot-Encoding](#8)\n",
    "    - 3.3 [Dimension Check of variables](#9)\n",
    "4. [Garbage Collection](#10)\n",
    "5. [Modeling](#11)\n",
    "    - 5.1 [Importing packages](#12)\n",
    "    - 5.2 [Building the model](#13)\n",
    "    - 5.3 [Early Stopping & Compiling](#14)\n",
    "    - 5.4 [Model fitting](#15)\n",
    "    - 5.5 [Model metrics](#16)\n",
    "    - 5.6 [Predictions](#17)\n",
    "    - 5.7 [Saving the model](#18)"
   ]
  },
  {
   "cell_type": "markdown",
   "metadata": {
    "_cell_guid": "e0fffe98-758d-4319-bd66-6f207729a630",
    "_uuid": "c0d7c1be-58ba-4ff6-a111-25c9c31e0eda",
    "papermill": {
     "duration": 0.025788,
     "end_time": "2021-05-17T14:26:43.610887",
     "exception": false,
     "start_time": "2021-05-17T14:26:43.585099",
     "status": "completed"
    },
    "tags": []
   },
   "source": [
    "### 1. Importing packages <a id=1></a>"
   ]
  },
  {
   "cell_type": "code",
   "execution_count": 2,
   "metadata": {
    "_cell_guid": "1e37fef9-7f9f-4b06-a8de-3f367d649045",
    "_kg_hide-input": true,
    "_uuid": "d20235e4-152b-489d-a746-cc67a4003510",
    "execution": {
     "iopub.execute_input": "2021-05-17T14:26:43.670781Z",
     "iopub.status.busy": "2021-05-17T14:26:43.670096Z",
     "iopub.status.idle": "2021-05-17T14:26:49.494885Z",
     "shell.execute_reply": "2021-05-17T14:26:49.495712Z"
    },
    "jupyter": {
     "outputs_hidden": false
    },
    "papermill": {
     "duration": 5.858912,
     "end_time": "2021-05-17T14:26:49.495866",
     "exception": false,
     "start_time": "2021-05-17T14:26:43.636954",
     "status": "completed"
    },
    "tags": []
   },
   "outputs": [
    {
     "name": "stdout",
     "output_type": "stream",
     "text": [
      "Packages imported...\n"
     ]
    }
   ],
   "source": [
    "# import data processing and visualisation libraries\n",
    "import numpy as np\n",
    "import pandas as pd\n",
    "import seaborn as sns\n",
    "import matplotlib.pyplot as plt\n",
    "%matplotlib inline\n",
    "\n",
    "# import image processing libraries\n",
    "import cv2\n",
    "import skimage\n",
    "from skimage.transform import resize\n",
    "\n",
    "# import tensorflow and keras\n",
    "import tensorflow as tf\n",
    "from tensorflow import keras\n",
    "import os\n",
    "\n",
    "print(\"Packages imported...\")"
   ]
  },
  {
   "cell_type": "markdown",
   "metadata": {
    "_cell_guid": "b3a465c1-760b-48fa-a281-b51d5ef510aa",
    "_uuid": "05e0a0aa-da07-4dff-a4d7-66ca13fa80b1",
    "papermill": {
     "duration": 0.02641,
     "end_time": "2021-05-17T14:26:49.549514",
     "exception": false,
     "start_time": "2021-05-17T14:26:49.523104",
     "status": "completed"
    },
    "tags": []
   },
   "source": [
    "### 2. Importing the dataset from training directory <a id=2></a>"
   ]
  },
  {
   "cell_type": "code",
   "execution_count": 3,
   "metadata": {
    "_cell_guid": "2265d143-13e7-43d9-b72d-18eb4b42ac2e",
    "_kg_hide-input": true,
    "_uuid": "0fab0f82-e179-4781-ad9d-973fed3ae070",
    "execution": {
     "iopub.execute_input": "2021-05-17T14:26:49.624355Z",
     "iopub.status.busy": "2021-05-17T14:26:49.623783Z",
     "iopub.status.idle": "2021-05-17T14:42:29.301630Z",
     "shell.execute_reply": "2021-05-17T14:42:29.302458Z"
    },
    "jupyter": {
     "outputs_hidden": false
    },
    "papermill": {
     "duration": 939.726928,
     "end_time": "2021-05-17T14:42:29.302681",
     "exception": false,
     "start_time": "2021-05-17T14:26:49.575753",
     "status": "completed"
    },
    "tags": []
   },
   "outputs": [
    {
     "name": "stdout",
     "output_type": "stream",
     "text": [
      "Images successfully imported...\n"
     ]
    }
   ],
   "source": [
    "batch_size = 64\n",
    "imageSize = 64\n",
    "target_dims = (imageSize, imageSize, 3)\n",
    "num_classes = 29\n",
    "\n",
    "train_len = 87000\n",
    "train_dir = 'datasets/asl_alphabet_train/asl_alphabet_train/'\n",
    "\n",
    "def get_data(folder):\n",
    "    X = np.empty((train_len, imageSize, imageSize, 3), dtype=np.float32)\n",
    "    y = np.empty((train_len,), dtype=np.int64)\n",
    "    cnt = 0\n",
    "    for folderName in os.listdir(folder):\n",
    "        if not folderName.startswith('.'):\n",
    "            if folderName in ['A']:\n",
    "                label = 0\n",
    "            elif folderName in ['B']:\n",
    "                label = 1\n",
    "            elif folderName in ['C']:\n",
    "                label = 2\n",
    "            elif folderName in ['D']:\n",
    "                label = 3\n",
    "            elif folderName in ['E']:\n",
    "                label = 4\n",
    "            elif folderName in ['F']:\n",
    "                label = 5\n",
    "            elif folderName in ['G']:\n",
    "                label = 6\n",
    "            elif folderName in ['H']:\n",
    "                label = 7\n",
    "            elif folderName in ['I']:\n",
    "                label = 8\n",
    "            elif folderName in ['J']:\n",
    "                label = 9\n",
    "            elif folderName in ['K']:\n",
    "                label = 10\n",
    "            elif folderName in ['L']:\n",
    "                label = 11\n",
    "            elif folderName in ['M']:\n",
    "                label = 12\n",
    "            elif folderName in ['N']:\n",
    "                label = 13\n",
    "            elif folderName in ['O']:\n",
    "                label = 14\n",
    "            elif folderName in ['P']:\n",
    "                label = 15\n",
    "            elif folderName in ['Q']:\n",
    "                label = 16\n",
    "            elif folderName in ['R']:\n",
    "                label = 17\n",
    "            elif folderName in ['S']:\n",
    "                label = 18\n",
    "            elif folderName in ['T']:\n",
    "                label = 19\n",
    "            elif folderName in ['U']:\n",
    "                label = 20\n",
    "            elif folderName in ['V']:\n",
    "                label = 21\n",
    "            elif folderName in ['W']:\n",
    "                label = 22\n",
    "            elif folderName in ['X']:\n",
    "                label = 23\n",
    "            elif folderName in ['Y']:\n",
    "                label = 24\n",
    "            elif folderName in ['Z']:\n",
    "                label = 25\n",
    "            elif folderName in ['del']:\n",
    "                label = 26\n",
    "            elif folderName in ['nothing']:\n",
    "                label = 27\n",
    "            elif folderName in ['space']:\n",
    "                label = 28           \n",
    "            else:\n",
    "                label = 29\n",
    "            for image_filename in os.listdir(folder + folderName):\n",
    "                img_file = cv2.imread(folder + folderName + '/' + image_filename)\n",
    "                if img_file is not None:\n",
    "                    img_file = skimage.transform.resize(img_file, (imageSize, imageSize, 3))\n",
    "                    img_arr = np.asarray(img_file).reshape((-1, imageSize, imageSize, 3))\n",
    "                    \n",
    "                    X[cnt] = img_arr\n",
    "                    y[cnt] = label\n",
    "                    cnt += 1\n",
    "    return X,y\n",
    "X_train, y_train = get_data(train_dir)\n",
    "print(\"Images successfully imported...\")"
   ]
  },
  {
   "cell_type": "markdown",
   "metadata": {
    "papermill": {
     "duration": 0.026785,
     "end_time": "2021-05-17T14:42:29.357583",
     "exception": false,
     "start_time": "2021-05-17T14:42:29.330798",
     "status": "completed"
    },
    "tags": []
   },
   "source": [
    "#### 2.1 Checking the shape of data <a id=3></a>"
   ]
  },
  {
   "cell_type": "code",
   "execution_count": 4,
   "metadata": {
    "_cell_guid": "067c2ef4-496b-4a67-bf5a-cc7a139ab7bd",
    "_kg_hide-input": true,
    "_uuid": "a5add51b-31da-4c0e-b1ff-573184900634",
    "execution": {
     "iopub.execute_input": "2021-05-17T14:42:29.416133Z",
     "iopub.status.busy": "2021-05-17T14:42:29.415400Z",
     "iopub.status.idle": "2021-05-17T14:42:29.420341Z",
     "shell.execute_reply": "2021-05-17T14:42:29.419753Z"
    },
    "jupyter": {
     "outputs_hidden": false
    },
    "papermill": {
     "duration": 0.035819,
     "end_time": "2021-05-17T14:42:29.420454",
     "exception": false,
     "start_time": "2021-05-17T14:42:29.384635",
     "status": "completed"
    },
    "tags": []
   },
   "outputs": [
    {
     "name": "stdout",
     "output_type": "stream",
     "text": [
      "The shape of X_train is :  (87000, 64, 64, 3)\n",
      "The shape of y_train is :  (87000,)\n"
     ]
    }
   ],
   "source": [
    "print(\"The shape of X_train is : \", X_train.shape)\n",
    "print(\"The shape of y_train is : \", y_train.shape)"
   ]
  },
  {
   "cell_type": "markdown",
   "metadata": {
    "papermill": {
     "duration": 0.027499,
     "end_time": "2021-05-17T14:42:29.477619",
     "exception": false,
     "start_time": "2021-05-17T14:42:29.450120",
     "status": "completed"
    },
    "tags": []
   },
   "source": [
    "#### 2.2 Checking the shape of one image <a id=4></a>"
   ]
  },
  {
   "cell_type": "code",
   "execution_count": 5,
   "metadata": {
    "_cell_guid": "900696c7-8be7-4337-a43f-16ccd81340f9",
    "_kg_hide-input": true,
    "_uuid": "d26a695b-50e9-48ba-b70d-46bd2eb2a6f6",
    "execution": {
     "iopub.execute_input": "2021-05-17T14:42:29.536889Z",
     "iopub.status.busy": "2021-05-17T14:42:29.536308Z",
     "iopub.status.idle": "2021-05-17T14:42:29.540648Z",
     "shell.execute_reply": "2021-05-17T14:42:29.541231Z"
    },
    "jupyter": {
     "outputs_hidden": false
    },
    "papermill": {
     "duration": 0.036321,
     "end_time": "2021-05-17T14:42:29.541385",
     "exception": false,
     "start_time": "2021-05-17T14:42:29.505064",
     "status": "completed"
    },
    "tags": []
   },
   "outputs": [
    {
     "name": "stdout",
     "output_type": "stream",
     "text": [
      "The shape of one image is :  (64, 64, 3)\n"
     ]
    }
   ],
   "source": [
    "print(\"The shape of one image is : \", X_train[0].shape)"
   ]
  },
  {
   "cell_type": "markdown",
   "metadata": {
    "papermill": {
     "duration": 0.027624,
     "end_time": "2021-05-17T14:42:29.597509",
     "exception": false,
     "start_time": "2021-05-17T14:42:29.569885",
     "status": "completed"
    },
    "tags": []
   },
   "source": [
    "#### 2.3 Viewing the image <a id=5></a>"
   ]
  },
  {
   "cell_type": "code",
   "execution_count": 6,
   "metadata": {
    "_cell_guid": "07904f67-f959-4785-a2a9-d26da5737f73",
    "_kg_hide-input": true,
    "_uuid": "47fc5cad-9dc5-4d85-81e4-063e6e0a084f",
    "execution": {
     "iopub.execute_input": "2021-05-17T14:42:29.664077Z",
     "iopub.status.busy": "2021-05-17T14:42:29.662538Z",
     "iopub.status.idle": "2021-05-17T14:42:29.800006Z",
     "shell.execute_reply": "2021-05-17T14:42:29.800430Z"
    },
    "jupyter": {
     "outputs_hidden": false
    },
    "papermill": {
     "duration": 0.174758,
     "end_time": "2021-05-17T14:42:29.800537",
     "exception": false,
     "start_time": "2021-05-17T14:42:29.625779",
     "status": "completed"
    },
    "tags": []
   },
   "outputs": [
    {
     "data": {
      "image/png": "[encoded data removed]",
      "text/plain": [
       "<Figure size 640x480 with 1 Axes>"
      ]
     },
     "metadata": {},
     "output_type": "display_data"
    }
   ],
   "source": [
    "plt.imshow(X_train[0])\n",
    "plt.show()"
   ]
  },
  {
   "cell_type": "markdown",
   "metadata": {
    "papermill": {
     "duration": 0.029695,
     "end_time": "2021-05-17T14:42:29.860551",
     "exception": false,
     "start_time": "2021-05-17T14:42:29.830856",
     "status": "completed"
    },
    "tags": []
   },
   "source": [
    "##### 2.3.1 Making copies of original data"
   ]
  },
  {
   "cell_type": "code",
   "execution_count": 7,
   "metadata": {
    "_cell_guid": "565a6756-d740-4ebe-ab3a-edd5d10d89cf",
    "_kg_hide-input": true,
    "_uuid": "1a129c25-b487-4d64-bb95-ce34367497d6",
    "execution": {
     "iopub.execute_input": "2021-05-17T14:42:29.921491Z",
     "iopub.status.busy": "2021-05-17T14:42:29.920887Z",
     "iopub.status.idle": "2021-05-17T14:42:29.926740Z",
     "shell.execute_reply": "2021-05-17T14:42:29.926072Z"
    },
    "jupyter": {
     "outputs_hidden": false
    },
    "papermill": {
     "duration": 0.037376,
     "end_time": "2021-05-17T14:42:29.926851",
     "exception": false,
     "start_time": "2021-05-17T14:42:29.889475",
     "status": "completed"
    },
    "tags": []
   },
   "outputs": [
    {
     "name": "stdout",
     "output_type": "stream",
     "text": [
      "Copies made...\n"
     ]
    }
   ],
   "source": [
    "X_data = X_train\n",
    "y_data = y_train\n",
    "print(\"Copies made...\")"
   ]
  },
  {
   "cell_type": "markdown",
   "metadata": {
    "_cell_guid": "37d05451-8836-41ff-865f-cdc9ea9567b0",
    "_uuid": "7b6c425c-49f0-4617-bda4-cf848cb75f14",
    "papermill": {
     "duration": 0.029112,
     "end_time": "2021-05-17T14:42:29.985175",
     "exception": false,
     "start_time": "2021-05-17T14:42:29.956063",
     "status": "completed"
    },
    "tags": []
   },
   "source": [
    "### 3. Data processing <a id=6></a>\n",
    "\n",
    "Before we can train our models, we need to preprocess the dataset to ensure that it is in a suitable format. We began by loading the dataset using TensorFlow’s Keras API and normalizing the pixel values to a range between 0 and 1. We then performed data augmentation to increase the size of the training set and improve model generalization. Specifically, we applied random rotations, zooms, and horizontal flips to the training images.\n",
    "\n",
    "To get a better understanding of the dataset, we also visualized a subset of the images using matplotlib. We found that the images are generally well-captured, with the hand signs clearly distinguishable."
   ]
  },
  {
   "cell_type": "markdown",
   "metadata": {
    "papermill": {
     "duration": 0.028856,
     "end_time": "2021-05-17T14:42:30.042938",
     "exception": false,
     "start_time": "2021-05-17T14:42:30.014082",
     "status": "completed"
    },
    "tags": []
   },
   "source": [
    "#### 3.1 Train/test split <a id=7></a>"
   ]
  },
  {
   "cell_type": "code",
   "execution_count": 8,
   "metadata": {
    "_cell_guid": "f834b860-92b6-49ca-8fc0-f3a3f20d7456",
    "_kg_hide-input": true,
    "_uuid": "100112bd-a136-4fb9-bb03-ef07020a294f",
    "execution": {
     "iopub.execute_input": "2021-05-17T14:42:30.106043Z",
     "iopub.status.busy": "2021-05-17T14:42:30.105380Z",
     "iopub.status.idle": "2021-05-17T14:42:31.764097Z",
     "shell.execute_reply": "2021-05-17T14:42:31.765225Z"
    },
    "jupyter": {
     "outputs_hidden": false
    },
    "papermill": {
     "duration": 1.693375,
     "end_time": "2021-05-17T14:42:31.765455",
     "exception": false,
     "start_time": "2021-05-17T14:42:30.072080",
     "status": "completed"
    },
    "tags": []
   },
   "outputs": [],
   "source": [
    "from sklearn.model_selection import train_test_split\n",
    "\n",
    "X_train, X_test, y_train, y_test = train_test_split(X_data, y_data, test_size=0.3,random_state=42,stratify=y_data)"
   ]
  },
  {
   "cell_type": "markdown",
   "metadata": {
    "papermill": {
     "duration": 0.047971,
     "end_time": "2021-05-17T14:42:31.862715",
     "exception": false,
     "start_time": "2021-05-17T14:42:31.814744",
     "status": "completed"
    },
    "tags": []
   },
   "source": [
    "#### 3.2 One-Hot-Encoding <a id=8></a>"
   ]
  },
  {
   "cell_type": "code",
   "execution_count": 9,
   "metadata": {
    "_cell_guid": "9257b00c-3b27-4e54-967d-903b7e52e65f",
    "_kg_hide-input": true,
    "_uuid": "df3ce29e-d4a1-41cc-a980-a1fdddbb83b8",
    "execution": {
     "iopub.execute_input": "2021-05-17T14:42:31.970996Z",
     "iopub.status.busy": "2021-05-17T14:42:31.970230Z",
     "iopub.status.idle": "2021-05-17T14:42:31.976858Z",
     "shell.execute_reply": "2021-05-17T14:42:31.977825Z"
    },
    "jupyter": {
     "outputs_hidden": false
    },
    "papermill": {
     "duration": 0.065514,
     "end_time": "2021-05-17T14:42:31.977971",
     "exception": false,
     "start_time": "2021-05-17T14:42:31.912457",
     "status": "completed"
    },
    "tags": []
   },
   "outputs": [],
   "source": [
    "# One-Hot-Encoding the categorical data\n",
    "from tensorflow.keras.utils import to_categorical\n",
    "y_cat_train = to_categorical(y_train,29)\n",
    "y_cat_test = to_categorical(y_test,29)"
   ]
  },
  {
   "cell_type": "markdown",
   "metadata": {
    "papermill": {
     "duration": 0.048826,
     "end_time": "2021-05-17T14:42:32.076476",
     "exception": false,
     "start_time": "2021-05-17T14:42:32.027650",
     "status": "completed"
    },
    "tags": []
   },
   "source": [
    "#### 3.3 Dimension Check of variables <a id=9></a>"
   ]
  },
  {
   "cell_type": "code",
   "execution_count": 10,
   "metadata": {
    "_cell_guid": "dae48de7-8e50-4c4e-a297-d8e3c09741da",
    "_kg_hide-input": true,
    "_uuid": "e9f8c8b8-df33-48f5-92a4-1e4d9a5393c4",
    "execution": {
     "iopub.execute_input": "2021-05-17T14:42:32.183455Z",
     "iopub.status.busy": "2021-05-17T14:42:32.182606Z",
     "iopub.status.idle": "2021-05-17T14:42:32.187593Z",
     "shell.execute_reply": "2021-05-17T14:42:32.188223Z"
    },
    "jupyter": {
     "outputs_hidden": false
    },
    "papermill": {
     "duration": 0.062272,
     "end_time": "2021-05-17T14:42:32.188378",
     "exception": false,
     "start_time": "2021-05-17T14:42:32.126106",
     "status": "completed"
    },
    "tags": []
   },
   "outputs": [
    {
     "name": "stdout",
     "output_type": "stream",
     "text": [
      "(60900, 64, 64, 3)\n",
      "(60900,)\n",
      "(26100, 64, 64, 3)\n",
      "(26100,)\n",
      "(60900, 29)\n",
      "(26100, 29)\n"
     ]
    }
   ],
   "source": [
    "# Checking the dimensions of all the variables\n",
    "print(X_train.shape)\n",
    "print(y_train.shape)\n",
    "print(X_test.shape)\n",
    "print(y_test.shape)\n",
    "print(y_cat_train.shape)\n",
    "print(y_cat_test.shape)"
   ]
  },
  {
   "cell_type": "markdown",
   "metadata": {
    "_cell_guid": "5ea40005-f9c4-45d8-b5fc-62efbbc7552f",
    "_uuid": "e2310305-968c-4304-98c0-0fa6f948f7ed",
    "papermill": {
     "duration": 0.041858,
     "end_time": "2021-05-17T14:42:32.280159",
     "exception": false,
     "start_time": "2021-05-17T14:42:32.238301",
     "status": "completed"
    },
    "tags": []
   },
   "source": [
    "### 4. Garbage Collection <a id=10></a>"
   ]
  },
  {
   "cell_type": "code",
   "execution_count": 11,
   "metadata": {
    "_cell_guid": "60b60e7c-5ad2-4200-b77b-d780c19a63c8",
    "_kg_hide-input": true,
    "_uuid": "0d1a9c60-97e0-4d93-96a2-8414ebe5a77b",
    "execution": {
     "iopub.execute_input": "2021-05-17T14:42:32.478541Z",
     "iopub.status.busy": "2021-05-17T14:42:32.477218Z",
     "iopub.status.idle": "2021-05-17T14:42:32.480712Z",
     "shell.execute_reply": "2021-05-17T14:42:32.481110Z"
    },
    "jupyter": {
     "outputs_hidden": false
    },
    "papermill": {
     "duration": 0.170985,
     "end_time": "2021-05-17T14:42:32.481226",
     "exception": false,
     "start_time": "2021-05-17T14:42:32.310241",
     "status": "completed"
    },
    "tags": []
   },
   "outputs": [
    {
     "data": {
      "text/plain": [
       "3135"
      ]
     },
     "execution_count": 11,
     "metadata": {},
     "output_type": "execute_result"
    }
   ],
   "source": [
    "# This is done to save CPU and RAM space while working on Kaggle Kernels. This will delete the specified data and save some space!\n",
    "import gc\n",
    "del X_data\n",
    "del y_data\n",
    "gc.collect()"
   ]
  },
  {
   "cell_type": "markdown",
   "metadata": {
    "_cell_guid": "d6ccd7c2-0204-438f-adf9-5a43f02a9978",
    "_uuid": "260a1235-958e-4446-a8c1-49ba2e8edda3",
    "papermill": {
     "duration": 0.030088,
     "end_time": "2021-05-17T14:42:32.542012",
     "exception": false,
     "start_time": "2021-05-17T14:42:32.511924",
     "status": "completed"
    },
    "tags": []
   },
   "source": [
    "### 5. Modeling <a id=11></a>"
   ]
  },
  {
   "cell_type": "markdown",
   "metadata": {
    "papermill": {
     "duration": 0.029726,
     "end_time": "2021-05-17T14:42:32.602003",
     "exception": false,
     "start_time": "2021-05-17T14:42:32.572277",
     "status": "completed"
    },
    "tags": []
   },
   "source": [
    "#### 5.1 Importing packages <a id=12></a>"
   ]
  },
  {
   "cell_type": "code",
   "execution_count": 12,
   "metadata": {
    "_cell_guid": "600cfa51-bec1-496f-ac4d-fe9cb700c03d",
    "_kg_hide-input": true,
    "_uuid": "6900c3dd-09dc-4f84-bbc4-2515d2d6c193",
    "execution": {
     "iopub.execute_input": "2021-05-17T14:42:32.666814Z",
     "iopub.status.busy": "2021-05-17T14:42:32.666114Z",
     "iopub.status.idle": "2021-05-17T14:42:32.718504Z",
     "shell.execute_reply": "2021-05-17T14:42:32.719163Z"
    },
    "jupyter": {
     "outputs_hidden": false
    },
    "papermill": {
     "duration": 0.087019,
     "end_time": "2021-05-17T14:42:32.719318",
     "exception": false,
     "start_time": "2021-05-17T14:42:32.632299",
     "status": "completed"
    },
    "tags": []
   },
   "outputs": [
    {
     "name": "stdout",
     "output_type": "stream",
     "text": [
      "Packages imported...\n"
     ]
    }
   ],
   "source": [
    "from keras.models import Sequential\n",
    "from keras.layers import Conv2D, MaxPooling2D, Activation, Dense, Flatten\n",
    "print(\"Packages imported...\")"
   ]
  },
  {
   "cell_type": "markdown",
   "metadata": {
    "papermill": {
     "duration": 0.030565,
     "end_time": "2021-05-17T14:42:32.781380",
     "exception": false,
     "start_time": "2021-05-17T14:42:32.750815",
     "status": "completed"
    },
    "tags": []
   },
   "source": [
    "#### 5.2 Building model <a id=13></a>"
   ]
  },
  {
   "cell_type": "code",
   "execution_count": 13,
   "metadata": {
    "_cell_guid": "17f3751b-4927-483b-9d60-effe1ee70cf1",
    "_kg_hide-input": true,
    "_uuid": "43bd378a-609f-4de1-a1ad-b1d169351098",
    "execution": {
     "iopub.execute_input": "2021-05-17T14:42:32.851866Z",
     "iopub.status.busy": "2021-05-17T14:42:32.851234Z",
     "iopub.status.idle": "2021-05-17T14:42:35.351824Z",
     "shell.execute_reply": "2021-05-17T14:42:35.351196Z"
    },
    "jupyter": {
     "outputs_hidden": false
    },
    "papermill": {
     "duration": 2.539624,
     "end_time": "2021-05-17T14:42:35.351932",
     "exception": false,
     "start_time": "2021-05-17T14:42:32.812308",
     "status": "completed"
    },
    "tags": []
   },
   "outputs": [
    {
     "name": "stdout",
     "output_type": "stream",
     "text": [
      "Model: \"sequential\"\n",
      "_________________________________________________________________\n",
      " Layer (type)                Output Shape              Param #   \n",
      "=================================================================\n",
      " conv2d (Conv2D)             (None, 60, 60, 32)        2432      \n",
      "                                                                 \n",
      " activation (Activation)     (None, 60, 60, 32)        0         \n",
      "                                                                 \n",
      " max_pooling2d (MaxPooling2D  (None, 30, 30, 32)       0         \n",
      " )                                                               \n",
      "                                                                 \n",
      " conv2d_1 (Conv2D)           (None, 28, 28, 64)        18496     \n",
      "                                                                 \n",
      " activation_1 (Activation)   (None, 28, 28, 64)        0         \n",
      "                                                                 \n",
      " max_pooling2d_1 (MaxPooling  (None, 14, 14, 64)       0         \n",
      " 2D)                                                             \n",
      "                                                                 \n",
      " conv2d_2 (Conv2D)           (None, 12, 12, 64)        36928     \n",
      "                                                                 \n",
      " activation_2 (Activation)   (None, 12, 12, 64)        0         \n",
      "                                                                 \n",
      " max_pooling2d_2 (MaxPooling  (None, 6, 6, 64)         0         \n",
      " 2D)                                                             \n",
      "                                                                 \n",
      " flatten (Flatten)           (None, 2304)              0         \n",
      "                                                                 \n",
      " dense (Dense)               (None, 128)               295040    \n",
      "                                                                 \n",
      " dense_1 (Dense)             (None, 29)                3741      \n",
      "                                                                 \n",
      "=================================================================\n",
      "Total params: 356,637\n",
      "Trainable params: 356,637\n",
      "Non-trainable params: 0\n",
      "_________________________________________________________________\n"
     ]
    }
   ],
   "source": [
    "model = Sequential()\n",
    "\n",
    "model.add(Conv2D(32, (5, 5), input_shape=(64, 64, 3)))\n",
    "model.add(Activation('relu'))\n",
    "model.add(MaxPooling2D((2, 2)))\n",
    "\n",
    "model.add(Conv2D(64, (3, 3)))\n",
    "model.add(Activation('relu'))\n",
    "model.add(MaxPooling2D((2, 2)))\n",
    "\n",
    "model.add(Conv2D(64, (3, 3)))\n",
    "model.add(Activation('relu'))\n",
    "model.add(MaxPooling2D((2, 2)))\n",
    "\n",
    "model.add(Flatten())\n",
    "\n",
    "model.add(Dense(128, activation='relu'))\n",
    "\n",
    "model.add(Dense(29, activation='softmax'))\n",
    "\n",
    "model.summary()"
   ]
  },
  {
   "cell_type": "markdown",
   "metadata": {
    "papermill": {
     "duration": 0.03133,
     "end_time": "2021-05-17T14:42:35.415175",
     "exception": false,
     "start_time": "2021-05-17T14:42:35.383845",
     "status": "completed"
    },
    "tags": []
   },
   "source": [
    "#### 5.3 Early Stopping and Compiling <a id=14></a>"
   ]
  },
  {
   "cell_type": "markdown",
   "metadata": {
    "papermill": {
     "duration": 0.031079,
     "end_time": "2021-05-17T14:42:35.478044",
     "exception": false,
     "start_time": "2021-05-17T14:42:35.446965",
     "status": "completed"
    },
    "tags": []
   },
   "source": [
    "##### 5.3.1 Early Stopping"
   ]
  },
  {
   "cell_type": "markdown",
   "metadata": {
    "papermill": {
     "duration": 0.030901,
     "end_time": "2021-05-17T14:42:35.540806",
     "exception": false,
     "start_time": "2021-05-17T14:42:35.509905",
     "status": "completed"
    },
    "tags": []
   },
   "source": [
    "Early Stopping is done to make sure the model fitting stops at the most optimized accuracy point. After the early stopping point, the model might start overfitting. For testing purposes, this step can be skipped and complete training can be done."
   ]
  },
  {
   "cell_type": "code",
   "execution_count": 14,
   "metadata": {
    "_cell_guid": "166bc66e-a184-4685-8bab-07a4fd82b5c5",
    "_kg_hide-input": true,
    "_uuid": "e48b5f93-6c7b-4cfa-af41-0ef7f449b51e",
    "execution": {
     "iopub.execute_input": "2021-05-17T14:42:35.607822Z",
     "iopub.status.busy": "2021-05-17T14:42:35.607306Z",
     "iopub.status.idle": "2021-05-17T14:42:35.611229Z",
     "shell.execute_reply": "2021-05-17T14:42:35.610824Z"
    },
    "jupyter": {
     "outputs_hidden": false
    },
    "papermill": {
     "duration": 0.038904,
     "end_time": "2021-05-17T14:42:35.611329",
     "exception": false,
     "start_time": "2021-05-17T14:42:35.572425",
     "status": "completed"
    },
    "tags": []
   },
   "outputs": [],
   "source": [
    "from tensorflow.keras.callbacks import EarlyStopping\n",
    "early_stop = EarlyStopping(monitor='val_loss',patience=2)"
   ]
  },
  {
   "cell_type": "markdown",
   "metadata": {
    "papermill": {
     "duration": 0.030669,
     "end_time": "2021-05-17T14:42:35.673538",
     "exception": false,
     "start_time": "2021-05-17T14:42:35.642869",
     "status": "completed"
    },
    "tags": []
   },
   "source": [
    "##### 5.3.2 Compiling"
   ]
  },
  {
   "cell_type": "code",
   "execution_count": 15,
   "metadata": {
    "_cell_guid": "207189e1-ee1b-466d-b032-c0e24c10d942",
    "_kg_hide-input": true,
    "_uuid": "45f4dafb-d26a-4c14-896a-cde3dff1212a",
    "execution": {
     "iopub.execute_input": "2021-05-17T14:42:35.747607Z",
     "iopub.status.busy": "2021-05-17T14:42:35.746804Z",
     "iopub.status.idle": "2021-05-17T14:42:35.753273Z",
     "shell.execute_reply": "2021-05-17T14:42:35.752863Z"
    },
    "jupyter": {
     "outputs_hidden": false
    },
    "papermill": {
     "duration": 0.047386,
     "end_time": "2021-05-17T14:42:35.753365",
     "exception": false,
     "start_time": "2021-05-17T14:42:35.705979",
     "status": "completed"
    },
    "tags": []
   },
   "outputs": [],
   "source": [
    "model.compile(optimizer='adam',\n",
    "              loss='categorical_crossentropy',\n",
    "              metrics=['accuracy'])"
   ]
  },
  {
   "cell_type": "markdown",
   "metadata": {
    "_cell_guid": "e8138e59-3c44-4575-ab15-c2f9a605e8ae",
    "_uuid": "9cad5ad2-3087-4237-8354-32633dab6b1d",
    "papermill": {
     "duration": 0.034192,
     "end_time": "2021-05-17T14:42:35.818736",
     "exception": false,
     "start_time": "2021-05-17T14:42:35.784544",
     "status": "completed"
    },
    "tags": []
   },
   "source": [
    "#### 5.4 Model fitting <a id=15></a>"
   ]
  },
  {
   "cell_type": "code",
   "execution_count": 16,
   "metadata": {
    "_cell_guid": "821c522f-11c6-45e9-aae9-b0f85167f8be",
    "_kg_hide-input": true,
    "_uuid": "1a1d6a1a-a207-41af-920b-044f27265cfa",
    "execution": {
     "iopub.execute_input": "2021-05-17T14:42:35.892150Z",
     "iopub.status.busy": "2021-05-17T14:42:35.891647Z",
     "iopub.status.idle": "2021-05-17T14:43:47.852147Z",
     "shell.execute_reply": "2021-05-17T14:43:47.851686Z"
    },
    "jupyter": {
     "outputs_hidden": false
    },
    "papermill": {
     "duration": 71.996412,
     "end_time": "2021-05-17T14:43:47.852252",
     "exception": false,
     "start_time": "2021-05-17T14:42:35.855840",
     "status": "completed"
    },
    "tags": []
   },
   "outputs": [
    {
     "name": "stdout",
     "output_type": "stream",
     "text": [
      "Epoch 1/50\n",
      "952/952 - 108s - loss: 1.0224 - accuracy: 0.6907 - val_loss: 0.2436 - val_accuracy: 0.9226 - 108s/epoch - 113ms/step\n",
      "Epoch 2/50\n",
      "952/952 - 108s - loss: 0.1508 - accuracy: 0.9515 - val_loss: 0.1008 - val_accuracy: 0.9664 - 108s/epoch - 113ms/step\n",
      "Epoch 3/50\n",
      "952/952 - 107s - loss: 0.0715 - accuracy: 0.9777 - val_loss: 0.0990 - val_accuracy: 0.9679 - 107s/epoch - 113ms/step\n",
      "Epoch 4/50\n",
      "952/952 - 107s - loss: 0.0489 - accuracy: 0.9851 - val_loss: 0.0415 - val_accuracy: 0.9882 - 107s/epoch - 112ms/step\n",
      "Epoch 5/50\n",
      "952/952 - 107s - loss: 0.0346 - accuracy: 0.9899 - val_loss: 0.0555 - val_accuracy: 0.9825 - 107s/epoch - 112ms/step\n",
      "Epoch 6/50\n",
      "952/952 - 107s - loss: 0.0398 - accuracy: 0.9886 - val_loss: 0.0257 - val_accuracy: 0.9928 - 107s/epoch - 112ms/step\n",
      "Epoch 7/50\n",
      "952/952 - 106s - loss: 0.0261 - accuracy: 0.9923 - val_loss: 0.0308 - val_accuracy: 0.9897 - 106s/epoch - 112ms/step\n",
      "Epoch 8/50\n",
      "952/952 - 107s - loss: 0.0244 - accuracy: 0.9931 - val_loss: 0.0747 - val_accuracy: 0.9792 - 107s/epoch - 112ms/step\n"
     ]
    },
    {
     "data": {
      "text/plain": [
       "<keras.callbacks.History at 0x278810f2dd0>"
      ]
     },
     "execution_count": 16,
     "metadata": {},
     "output_type": "execute_result"
    }
   ],
   "source": [
    "model.fit(X_train, y_cat_train,\n",
    "          epochs=50,\n",
    "          batch_size=64,\n",
    "          verbose=2,\n",
    "          validation_data=(X_test, y_cat_test),\n",
    "         callbacks=[early_stop])"
   ]
  },
  {
   "cell_type": "markdown",
   "metadata": {
    "_cell_guid": "2c72fb78-8a46-4faf-ab4b-339b65c8b9dd",
    "_uuid": "8ebe106b-4eeb-44ca-9afb-9c91d02962b2",
    "papermill": {
     "duration": 0.036531,
     "end_time": "2021-05-17T14:43:47.925180",
     "exception": false,
     "start_time": "2021-05-17T14:43:47.888649",
     "status": "completed"
    },
    "tags": []
   },
   "source": [
    "#### 5.5 Model metrics <a id=16></a>"
   ]
  },
  {
   "cell_type": "markdown",
   "metadata": {
    "papermill": {
     "duration": 0.036486,
     "end_time": "2021-05-17T14:43:47.997968",
     "exception": false,
     "start_time": "2021-05-17T14:43:47.961482",
     "status": "completed"
    },
    "tags": []
   },
   "source": [
    "##### 5.5.1 Metrics from model history"
   ]
  },
  {
   "cell_type": "code",
   "execution_count": 17,
   "metadata": {
    "_cell_guid": "74862d05-feff-4e9c-b634-77b5a2daa8c6",
    "_kg_hide-input": true,
    "_uuid": "e1e23093-cca8-4e14-875f-2a7e2fd88f2c",
    "execution": {
     "iopub.execute_input": "2021-05-17T14:43:48.084072Z",
     "iopub.status.busy": "2021-05-17T14:43:48.083222Z",
     "iopub.status.idle": "2021-05-17T14:43:48.146038Z",
     "shell.execute_reply": "2021-05-17T14:43:48.145598Z"
    },
    "jupyter": {
     "outputs_hidden": false
    },
    "papermill": {
     "duration": 0.111648,
     "end_time": "2021-05-17T14:43:48.146124",
     "exception": false,
     "start_time": "2021-05-17T14:43:48.034476",
     "status": "completed"
    },
    "tags": []
   },
   "outputs": [
    {
     "name": "stdout",
     "output_type": "stream",
     "text": [
      "The model metrics are\n"
     ]
    },
    {
     "data": {
      "text/html": [
       "<div>\n",
       "<style scoped>\n",
       "    .dataframe tbody tr th:only-of-type {\n",
       "        vertical-align: middle;\n",
       "    }\n",
       "\n",
       "    .dataframe tbody tr th {\n",
       "        vertical-align: top;\n",
       "    }\n",
       "\n",
       "    .dataframe thead th {\n",
       "        text-align: right;\n",
       "    }\n",
       "</style>\n",
       "<table border=\"1\" class=\"dataframe\">\n",
       "  <thead>\n",
       "    <tr style=\"text-align: right;\">\n",
       "      <th></th>\n",
       "      <th>loss</th>\n",
       "      <th>accuracy</th>\n",
       "      <th>val_loss</th>\n",
       "      <th>val_accuracy</th>\n",
       "    </tr>\n",
       "  </thead>\n",
       "  <tbody>\n",
       "    <tr>\n",
       "      <th>0</th>\n",
       "      <td>1.022439</td>\n",
       "      <td>0.690723</td>\n",
       "      <td>0.243573</td>\n",
       "      <td>0.922644</td>\n",
       "    </tr>\n",
       "    <tr>\n",
       "      <th>1</th>\n",
       "      <td>0.150802</td>\n",
       "      <td>0.951494</td>\n",
       "      <td>0.100771</td>\n",
       "      <td>0.966437</td>\n",
       "    </tr>\n",
       "    <tr>\n",
       "      <th>2</th>\n",
       "      <td>0.071504</td>\n",
       "      <td>0.977718</td>\n",
       "      <td>0.099047</td>\n",
       "      <td>0.967854</td>\n",
       "    </tr>\n",
       "    <tr>\n",
       "      <th>3</th>\n",
       "      <td>0.048866</td>\n",
       "      <td>0.985090</td>\n",
       "      <td>0.041533</td>\n",
       "      <td>0.988238</td>\n",
       "    </tr>\n",
       "    <tr>\n",
       "      <th>4</th>\n",
       "      <td>0.034590</td>\n",
       "      <td>0.989885</td>\n",
       "      <td>0.055501</td>\n",
       "      <td>0.982452</td>\n",
       "    </tr>\n",
       "    <tr>\n",
       "      <th>5</th>\n",
       "      <td>0.039790</td>\n",
       "      <td>0.988604</td>\n",
       "      <td>0.025690</td>\n",
       "      <td>0.992797</td>\n",
       "    </tr>\n",
       "    <tr>\n",
       "      <th>6</th>\n",
       "      <td>0.026122</td>\n",
       "      <td>0.992266</td>\n",
       "      <td>0.030773</td>\n",
       "      <td>0.989693</td>\n",
       "    </tr>\n",
       "    <tr>\n",
       "      <th>7</th>\n",
       "      <td>0.024407</td>\n",
       "      <td>0.993087</td>\n",
       "      <td>0.074726</td>\n",
       "      <td>0.979234</td>\n",
       "    </tr>\n",
       "  </tbody>\n",
       "</table>\n",
       "</div>"
      ],
      "text/plain": [
       "       loss  accuracy  val_loss  val_accuracy\n",
       "0  1.022439  0.690723  0.243573      0.922644\n",
       "1  0.150802  0.951494  0.100771      0.966437\n",
       "2  0.071504  0.977718  0.099047      0.967854\n",
       "3  0.048866  0.985090  0.041533      0.988238\n",
       "4  0.034590  0.989885  0.055501      0.982452\n",
       "5  0.039790  0.988604  0.025690      0.992797\n",
       "6  0.026122  0.992266  0.030773      0.989693\n",
       "7  0.024407  0.993087  0.074726      0.979234"
      ]
     },
     "execution_count": 17,
     "metadata": {},
     "output_type": "execute_result"
    }
   ],
   "source": [
    "metrics = pd.DataFrame(model.history.history)\n",
    "print(\"The model metrics are\")\n",
    "metrics"
   ]
  },
  {
   "cell_type": "markdown",
   "metadata": {
    "papermill": {
     "duration": 0.036941,
     "end_time": "2021-05-17T14:43:48.220610",
     "exception": false,
     "start_time": "2021-05-17T14:43:48.183669",
     "status": "completed"
    },
    "tags": []
   },
   "source": [
    "##### 5.5.2 Plotting the training loss"
   ]
  },
  {
   "cell_type": "code",
   "execution_count": 18,
   "metadata": {
    "_cell_guid": "de0a1bf2-1bd7-4cb3-a63a-3b3fb85618e3",
    "_kg_hide-input": true,
    "_uuid": "6ab8f14a-faa4-446f-9fc9-afc2778ce699",
    "execution": {
     "iopub.execute_input": "2021-05-17T14:43:48.300448Z",
     "iopub.status.busy": "2021-05-17T14:43:48.299853Z",
     "iopub.status.idle": "2021-05-17T14:43:48.470434Z",
     "shell.execute_reply": "2021-05-17T14:43:48.470897Z"
    },
    "jupyter": {
     "outputs_hidden": false
    },
    "papermill": {
     "duration": 0.213173,
     "end_time": "2021-05-17T14:43:48.471020",
     "exception": false,
     "start_time": "2021-05-17T14:43:48.257847",
     "status": "completed"
    },
    "tags": []
   },
   "outputs": [
    {
     "data": {
      "image/png": "[encoded data removed]",
      "text/plain": [
       "<Figure size 640x480 with 1 Axes>"
      ]
     },
     "metadata": {},
     "output_type": "display_data"
    }
   ],
   "source": [
    "metrics[['loss','val_loss']].plot()\n",
    "plt.show()"
   ]
  },
  {
   "cell_type": "markdown",
   "metadata": {
    "papermill": {
     "duration": 0.03882,
     "end_time": "2021-05-17T14:43:48.551449",
     "exception": false,
     "start_time": "2021-05-17T14:43:48.512629",
     "status": "completed"
    },
    "tags": []
   },
   "source": [
    "##### 5.5.3 Plotting the testing loss"
   ]
  },
  {
   "cell_type": "code",
   "execution_count": 19,
   "metadata": {
    "_cell_guid": "9209698c-13bb-4ae9-a309-79771ac5354d",
    "_kg_hide-input": true,
    "_uuid": "97d6cb1a-10ec-4849-a1b2-f0551b704b4c",
    "execution": {
     "iopub.execute_input": "2021-05-17T14:43:48.644304Z",
     "iopub.status.busy": "2021-05-17T14:43:48.639106Z",
     "iopub.status.idle": "2021-05-17T14:43:48.796985Z",
     "shell.execute_reply": "2021-05-17T14:43:48.797467Z"
    },
    "jupyter": {
     "outputs_hidden": false
    },
    "papermill": {
     "duration": 0.206101,
     "end_time": "2021-05-17T14:43:48.797593",
     "exception": false,
     "start_time": "2021-05-17T14:43:48.591492",
     "status": "completed"
    },
    "tags": []
   },
   "outputs": [
    {
     "data": {
      "image/png": "[encoded data removed]",
      "text/plain": [
       "<Figure size 640x480 with 1 Axes>"
      ]
     },
     "metadata": {},
     "output_type": "display_data"
    }
   ],
   "source": [
    "metrics[['accuracy','val_accuracy']].plot()\n",
    "plt.show()"
   ]
  },
  {
   "cell_type": "markdown",
   "metadata": {
    "papermill": {
     "duration": 0.042469,
     "end_time": "2021-05-17T14:43:48.884010",
     "exception": false,
     "start_time": "2021-05-17T14:43:48.841541",
     "status": "completed"
    },
    "tags": []
   },
   "source": [
    "##### 5.5.4 Model evaluation"
   ]
  },
  {
   "cell_type": "code",
   "execution_count": 25,
   "metadata": {
    "_cell_guid": "716cf381-329b-499d-901b-f035117ccc13",
    "_kg_hide-input": true,
    "_uuid": "828a8b42-c224-488e-8e38-34b5d98e2ae7",
    "execution": {
     "iopub.execute_input": "2021-05-17T14:43:48.970487Z",
     "iopub.status.busy": "2021-05-17T14:43:48.969571Z",
     "iopub.status.idle": "2021-05-17T14:43:51.929341Z",
     "shell.execute_reply": "2021-05-17T14:43:51.928885Z"
    },
    "jupyter": {
     "outputs_hidden": false
    },
    "papermill": {
     "duration": 3.005312,
     "end_time": "2021-05-17T14:43:51.929450",
     "exception": false,
     "start_time": "2021-05-17T14:43:48.924138",
     "status": "completed"
    },
    "tags": []
   },
   "outputs": [
    {
     "data": {
      "text/plain": [
       "[0.0747256726026535, 0.9792337417602539]"
      ]
     },
     "execution_count": 25,
     "metadata": {},
     "output_type": "execute_result"
    }
   ],
   "source": [
    "model.evaluate(X_test,y_cat_test,verbose=0)"
   ]
  },
  {
   "cell_type": "markdown",
   "metadata": {
    "papermill": {
     "duration": 0.039667,
     "end_time": "2021-05-17T14:43:52.010431",
     "exception": false,
     "start_time": "2021-05-17T14:43:51.970764",
     "status": "completed"
    },
    "tags": []
   },
   "source": [
    "#### 5.6 Predictions <a id=17></a>"
   ]
  },
  {
   "cell_type": "code",
   "execution_count": 39,
   "metadata": {
    "_cell_guid": "d2d154b6-4555-4fee-a172-d23850b90d99",
    "_kg_hide-input": true,
    "_uuid": "f7df04f7-8d68-4adf-9909-fb2dc722447f",
    "execution": {
     "iopub.execute_input": "2021-05-17T14:43:52.095347Z",
     "iopub.status.busy": "2021-05-17T14:43:52.094419Z",
     "iopub.status.idle": "2021-05-17T14:43:54.290862Z",
     "shell.execute_reply": "2021-05-17T14:43:54.290432Z"
    },
    "jupyter": {
     "outputs_hidden": false
    },
    "papermill": {
     "duration": 2.241114,
     "end_time": "2021-05-17T14:43:54.290961",
     "exception": false,
     "start_time": "2021-05-17T14:43:52.049847",
     "status": "completed"
    },
    "tags": []
   },
   "outputs": [
    {
     "name": "stdout",
     "output_type": "stream",
     "text": [
      "816/816 [==============================] - 12s 15ms/step\n",
      "Predictions done...\n"
     ]
    }
   ],
   "source": [
    "predictions = np.argmax(model.predict(X_test),axis=1)\n",
    "print(\"Predictions done...\")"
   ]
  },
  {
   "cell_type": "markdown",
   "metadata": {
    "papermill": {
     "duration": 0.039376,
     "end_time": "2021-05-17T14:43:54.370799",
     "exception": false,
     "start_time": "2021-05-17T14:43:54.331423",
     "status": "completed"
    },
    "tags": []
   },
   "source": [
    "##### 5.6.1 Classification report"
   ]
  },
  {
   "cell_type": "code",
   "execution_count": 40,
   "metadata": {
    "_cell_guid": "ce15c91a-6167-4c26-8c20-4ce024b9550e",
    "_kg_hide-input": true,
    "_uuid": "3422a44a-c7a6-4142-9bd5-2602ad158b43",
    "execution": {
     "iopub.execute_input": "2021-05-17T14:43:54.454501Z",
     "iopub.status.busy": "2021-05-17T14:43:54.453697Z",
     "iopub.status.idle": "2021-05-17T14:43:54.514806Z",
     "shell.execute_reply": "2021-05-17T14:43:54.514215Z"
    },
    "jupyter": {
     "outputs_hidden": false
    },
    "papermill": {
     "duration": 0.104688,
     "end_time": "2021-05-17T14:43:54.514928",
     "exception": false,
     "start_time": "2021-05-17T14:43:54.410240",
     "status": "completed"
    },
    "tags": []
   },
   "outputs": [
    {
     "name": "stdout",
     "output_type": "stream",
     "text": [
      "              precision    recall  f1-score   support\n",
      "\n",
      "           0       0.98      0.96      0.97       900\n",
      "           1       0.99      0.97      0.98       900\n",
      "           2       1.00      1.00      1.00       900\n",
      "           3       0.99      0.99      0.99       900\n",
      "           4       1.00      0.90      0.94       900\n",
      "           5       0.99      0.99      0.99       900\n",
      "           6       0.99      0.88      0.93       900\n",
      "           7       0.90      1.00      0.94       900\n",
      "           8       0.94      1.00      0.97       900\n",
      "           9       1.00      0.99      0.99       900\n",
      "          10       0.95      1.00      0.98       900\n",
      "          11       1.00      0.99      0.99       900\n",
      "          12       0.97      1.00      0.98       900\n",
      "          13       0.99      0.99      0.99       900\n",
      "          14       1.00      0.98      0.99       900\n",
      "          15       1.00      0.99      0.99       900\n",
      "          16       1.00      1.00      1.00       900\n",
      "          17       0.91      0.99      0.95       900\n",
      "          18       0.99      0.96      0.97       900\n",
      "          19       0.98      1.00      0.99       900\n",
      "          20       0.97      0.97      0.97       900\n",
      "          21       1.00      0.92      0.96       900\n",
      "          22       0.99      1.00      0.99       900\n",
      "          23       0.93      1.00      0.96       900\n",
      "          24       1.00      0.98      0.99       900\n",
      "          25       1.00      1.00      1.00       900\n",
      "          26       1.00      1.00      1.00       900\n",
      "          27       1.00      1.00      1.00       900\n",
      "          28       1.00      0.99      0.99       900\n",
      "\n",
      "    accuracy                           0.98     26100\n",
      "   macro avg       0.98      0.98      0.98     26100\n",
      "weighted avg       0.98      0.98      0.98     26100\n",
      "\n"
     ]
    }
   ],
   "source": [
    "from sklearn.metrics import classification_report, confusion_matrix\n",
    "print(classification_report(y_test,predictions))"
   ]
  },
  {
   "cell_type": "markdown",
   "metadata": {
    "papermill": {
     "duration": 0.03982,
     "end_time": "2021-05-17T14:43:54.595808",
     "exception": false,
     "start_time": "2021-05-17T14:43:54.555988",
     "status": "completed"
    },
    "tags": []
   },
   "source": [
    "##### 5.6.2 Confusion matrix heatmap"
   ]
  },
  {
   "cell_type": "code",
   "execution_count": 41,
   "metadata": {
    "_cell_guid": "82ddeca2-22ce-4dce-9649-62e172593c4d",
    "_kg_hide-input": true,
    "_uuid": "16da6316-14ee-4ea6-9c8a-e5c7dd4947b8",
    "execution": {
     "iopub.execute_input": "2021-05-17T14:43:54.682603Z",
     "iopub.status.busy": "2021-05-17T14:43:54.681572Z",
     "iopub.status.idle": "2021-05-17T14:43:55.272644Z",
     "shell.execute_reply": "2021-05-17T14:43:55.273122Z"
    },
    "jupyter": {
     "outputs_hidden": false
    },
    "papermill": {
     "duration": 0.637098,
     "end_time": "2021-05-17T14:43:55.273252",
     "exception": false,
     "start_time": "2021-05-17T14:43:54.636154",
     "status": "completed"
    },
    "tags": []
   },
   "outputs": [
    {
     "data": {
      "image/png": "[encoded data removed]",
      "text/plain": [
       "<Figure size 1200x1200 with 2 Axes>"
      ]
     },
     "metadata": {},
     "output_type": "display_data"
    }
   ],
   "source": [
    "plt.figure(figsize=(12,12))\n",
    "sns.heatmap(confusion_matrix(y_test,predictions))\n",
    "plt.show()"
   ]
  },
  {
   "cell_type": "markdown",
   "metadata": {
    "_cell_guid": "3b9c82a3-3f9e-4942-ba84-4ab45a9d7c28",
    "_uuid": "3e4bb569-e8a8-46bd-b454-324c9a438472",
    "papermill": {
     "duration": 0.087452,
     "end_time": "2021-05-17T14:43:55.410148",
     "exception": false,
     "start_time": "2021-05-17T14:43:55.322696",
     "status": "completed"
    },
    "tags": []
   },
   "source": [
    "#### 5.7 Saving the model <a id=18></a>"
   ]
  },
  {
   "cell_type": "code",
   "execution_count": 42,
   "metadata": {
    "_cell_guid": "8185dcab-276b-4ded-b361-68a509f12a6b",
    "_kg_hide-input": true,
    "_uuid": "b4ff36f4-5518-4e83-83ba-aa1233b0f571",
    "execution": {
     "iopub.execute_input": "2021-05-17T14:43:55.499196Z",
     "iopub.status.busy": "2021-05-17T14:43:55.498647Z",
     "iopub.status.idle": "2021-05-17T14:43:55.504288Z",
     "shell.execute_reply": "2021-05-17T14:43:55.504793Z"
    },
    "jupyter": {
     "outputs_hidden": false
    },
    "papermill": {
     "duration": 0.052574,
     "end_time": "2021-05-17T14:43:55.504915",
     "exception": false,
     "start_time": "2021-05-17T14:43:55.452341",
     "status": "completed"
    },
    "tags": []
   },
   "outputs": [
    {
     "name": "stdout",
     "output_type": "stream",
     "text": [
      "Model saved successfully...\n"
     ]
    }
   ],
   "source": [
    "# from keras.models import load_model\n",
    "# model.save('ASL.h5')\n",
    "print(\"Model saved successfully...\")"
   ]
  },
  {
   "cell_type": "markdown",
   "metadata": {
    "_kg_hide-input": false,
    "papermill": {
     "duration": 0.043027,
     "end_time": "2021-05-17T14:43:55.590434",
     "exception": false,
     "start_time": "2021-05-17T14:43:55.547407",
     "status": "completed"
    },
    "tags": []
   },
   "source": [
    "[back to top](#19)"
   ]
  }
 ],
 "metadata": {
  "kernelspec": {
   "display_name": "Python 3 (ipykernel)",
   "language": "python",
   "name": "python3"
  },
  "language_info": {
   "codemirror_mode": {
    "name": "ipython",
    "version": 3
   },
   "file_extension": ".py",
   "mimetype": "text/x-python",
   "name": "python",
   "nbconvert_exporter": "python",
   "pygments_lexer": "ipython3",
   "version": "3.9.16"
  },
  "papermill": {
   "duration": 1036.37613,
   "end_time": "2021-05-17T14:43:56.110865",
   "environment_variables": {},
   "exception": null,
   "input_path": "__notebook__.ipynb",
   "output_path": "__notebook__.ipynb",
   "parameters": {},
   "start_time": "2021-05-17T14:26:39.734735",
   "version": "2.1.0"
  },
  "vscode": {
   "interpreter": {
    "hash": "ac7b32039921764e5423c08d86708bfcfc5d65c5ffe1542dfad366340fbbf046"
   }
  }
 },
 "nbformat": 4,
 "nbformat_minor": 4
}
